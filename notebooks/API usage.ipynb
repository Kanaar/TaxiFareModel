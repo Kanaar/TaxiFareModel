{
 "cells": [
  {
   "cell_type": "code",
   "execution_count": 1,
   "metadata": {},
   "outputs": [
    {
     "name": "stdout",
     "output_type": "stream",
     "text": [
      "{'prediction': 1394.7103102176363}\n"
     ]
    }
   ],
   "source": [
    "import requests\n",
    "\n",
    "# fill the parameters for the prediction\n",
    "x = dict(\n",
    "  key='2012-10-06 12:10:20.0000001',\n",
    "  pickup_datetime='2012-10-06 12:10:20 UTC',\n",
    "  pickup_longitude=40.7614327,\n",
    "  pickup_latitude=-73.9798156,\n",
    "  dropoff_longitude=40.6413111,\n",
    "  dropoff_latitude=-73.9797156,\n",
    "  passenger_count=1\n",
    ")\n",
    "\n",
    "x = dict(\n",
    "  key='2012-10-06 12:10:20.0000001',\n",
    "  pickup_datetime='2012-10-06 12:10:20 UTC',\n",
    "  pickup_longitude=40.7614327,\n",
    "  pickup_latitude=-73.9798156,\n",
    "  dropoff_longitude=40.6331166,\n",
    "  dropoff_latitude=-73.8874078,\n",
    "  passenger_count=2\n",
    ")\n",
    "\n",
    "# build the URL (server DNS, port, API endpoint, parameters)\n",
    "# http://127.0.0.1:8000/predict_fare/2012-10-06%2012:10:20.0000001/2009-06-15%2017:26:21%20UTC/40.7614327/-73.9798156/40.6513111/-73.8803331/2\n",
    "taxifare_api_url = f\"http://127.0.0.1:8000/predict_fare/{x['key']}/{x['pickup_datetime']}/{x['pickup_longitude']}/{x['pickup_latitude']}/{x['dropoff_longitude']}/{x['dropoff_latitude']}/{x['passenger_count']}\"\n",
    "\n",
    "# retrieve the response\n",
    "response = requests.get(\n",
    "    taxifare_api_url\n",
    ").json()\n",
    "\n",
    "print(response)\n"
   ]
  },
  {
   "cell_type": "code",
   "execution_count": 4,
   "metadata": {},
   "outputs": [],
   "source": [
    "import pandas as pd\n",
    "from datetime import datetime\n",
    "params = {\n",
    "          \"Unnamed: 0\": [\"0\"],\n",
    "          \"key\": datetime.now().strftime(\"%Y/%m/%d, %H:%M:%S\"),\n",
    "          \"pickup_datetime\": \"2013-07-06 17:18:00 UTC\",\n",
    "          \"pickup_longitude\": float(\"-73.950655\"),\n",
    "          \"pickup_latitude\": float(\"40.783282\"),\n",
    "          \"dropoff_longitude\": float(\"-73.984365\"),\n",
    "          \"dropoff_latitude\": float(\"40.769802\"),\n",
    "          \"passenger_count\": int(\"1\")\n",
    "        }\n",
    "X_pred = pd.DataFrame.from_dict(params, orient='columns')"
   ]
  },
  {
   "cell_type": "code",
   "execution_count": 5,
   "metadata": {},
   "outputs": [
    {
     "data": {
      "text/html": [
       "<div>\n",
       "<style scoped>\n",
       "    .dataframe tbody tr th:only-of-type {\n",
       "        vertical-align: middle;\n",
       "    }\n",
       "\n",
       "    .dataframe tbody tr th {\n",
       "        vertical-align: top;\n",
       "    }\n",
       "\n",
       "    .dataframe thead th {\n",
       "        text-align: right;\n",
       "    }\n",
       "</style>\n",
       "<table border=\"1\" class=\"dataframe\">\n",
       "  <thead>\n",
       "    <tr style=\"text-align: right;\">\n",
       "      <th></th>\n",
       "      <th>Unnamed: 0</th>\n",
       "      <th>key</th>\n",
       "      <th>pickup_datetime</th>\n",
       "      <th>pickup_longitude</th>\n",
       "      <th>pickup_latitude</th>\n",
       "      <th>dropoff_longitude</th>\n",
       "      <th>dropoff_latitude</th>\n",
       "      <th>passenger_count</th>\n",
       "    </tr>\n",
       "  </thead>\n",
       "  <tbody>\n",
       "    <tr>\n",
       "      <th>0</th>\n",
       "      <td>0</td>\n",
       "      <td>2021/03/01, 12:44:54</td>\n",
       "      <td>2013-07-06 17:18:00 UTC</td>\n",
       "      <td>-73.950655</td>\n",
       "      <td>40.783282</td>\n",
       "      <td>-73.984365</td>\n",
       "      <td>40.769802</td>\n",
       "      <td>1</td>\n",
       "    </tr>\n",
       "  </tbody>\n",
       "</table>\n",
       "</div>"
      ],
      "text/plain": [
       "  Unnamed: 0                   key          pickup_datetime  pickup_longitude  \\\n",
       "0          0  2021/03/01, 12:44:54  2013-07-06 17:18:00 UTC        -73.950655   \n",
       "\n",
       "   pickup_latitude  dropoff_longitude  dropoff_latitude  passenger_count  \n",
       "0        40.783282         -73.984365         40.769802                1  "
      ]
     },
     "execution_count": 5,
     "metadata": {},
     "output_type": "execute_result"
    }
   ],
   "source": [
    "X_pred.head()"
   ]
  },
  {
   "cell_type": "code",
   "execution_count": 6,
   "metadata": {},
   "outputs": [
    {
     "data": {
      "text/plain": [
       "(1, 8)"
      ]
     },
     "execution_count": 6,
     "metadata": {},
     "output_type": "execute_result"
    }
   ],
   "source": [
    "X_pred.shape"
   ]
  },
  {
   "cell_type": "code",
   "execution_count": null,
   "metadata": {},
   "outputs": [],
   "source": []
  }
 ],
 "metadata": {
  "kernelspec": {
   "display_name": "Python 3",
   "language": "python",
   "name": "python3"
  },
  "language_info": {
   "codemirror_mode": {
    "name": "ipython",
    "version": 3
   },
   "file_extension": ".py",
   "mimetype": "text/x-python",
   "name": "python",
   "nbconvert_exporter": "python",
   "pygments_lexer": "ipython3",
   "version": "3.8.6"
  },
  "toc": {
   "base_numbering": 1,
   "nav_menu": {},
   "number_sections": true,
   "sideBar": true,
   "skip_h1_title": false,
   "title_cell": "Table of Contents",
   "title_sidebar": "Contents",
   "toc_cell": false,
   "toc_position": {},
   "toc_section_display": true,
   "toc_window_display": false
  },
  "varInspector": {
   "cols": {
    "lenName": 16,
    "lenType": 16,
    "lenVar": 40
   },
   "kernels_config": {
    "python": {
     "delete_cmd_postfix": "",
     "delete_cmd_prefix": "del ",
     "library": "var_list.py",
     "varRefreshCmd": "print(var_dic_list())"
    },
    "r": {
     "delete_cmd_postfix": ") ",
     "delete_cmd_prefix": "rm(",
     "library": "var_list.r",
     "varRefreshCmd": "cat(var_dic_list()) "
    }
   },
   "types_to_exclude": [
    "module",
    "function",
    "builtin_function_or_method",
    "instance",
    "_Feature"
   ],
   "window_display": false
  }
 },
 "nbformat": 4,
 "nbformat_minor": 4
}
